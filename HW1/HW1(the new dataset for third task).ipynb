{
 "cells": [
  {
   "cell_type": "code",
   "execution_count": 1,
   "id": "ce6000a6",
   "metadata": {},
   "outputs": [],
   "source": [
    "import pandas as pd\n",
    "###import helpers.data_mining_helpers as dmh\n",
    "import numpy as np\n",
    "import nltk\n",
    "import seaborn as sns\n",
    "import matplotlib.pyplot as plt\n",
    "from sklearn.feature_extraction.text import CountVectorizer\n",
    "from sklearn.feature_extraction.text import TfidfVectorizer\n",
    "%matplotlib inline"
   ]
  },
  {
   "cell_type": "code",
   "execution_count": 2,
   "id": "6702b9ac",
   "metadata": {},
   "outputs": [],
   "source": [
    "f=open(r'F:\\資料\\data mininng\\sentiment labelled sentences\\yelp_labelled.txt','r')\n",
    "f1=open(r'F:\\資料\\data mininng\\sentiment labelled sentences\\imdb_labelled.txt','r',encoding=\"utf-8\")\n",
    "f2=open(r'F:\\資料\\data mininng\\sentiment labelled sentences\\amazon_cells_labelled.txt','r')"
   ]
  },
  {
   "cell_type": "code",
   "execution_count": 3,
   "id": "6aeafd75",
   "metadata": {},
   "outputs": [],
   "source": [
    "data=[]\n",
    "for line in f.readlines():\n",
    "    data.append([line.replace('\\t',\"\").replace('\\n',\"\")[:-1],line.replace('\\t',\"\").replace('\\n',\"\")[-1]])\n",
    "for line in f1.readlines():\n",
    "    data.append([line.replace('\\t',\"\").replace('\\n',\"\")[:-1],line.replace('\\t',\"\").replace('\\n',\"\")[-1]]) \n",
    "for line in f2.readlines():\n",
    "    data.append([line.replace('\\t',\"\").replace('\\n',\"\")[:-1],line.replace('\\t',\"\").replace('\\n',\"\")[-1]]) "
   ]
  },
  {
   "cell_type": "code",
   "execution_count": 4,
   "id": "4383ccb6",
   "metadata": {},
   "outputs": [],
   "source": [
    "categories = ['negative', 'positive']\n",
    "new_data=[]\n",
    "for i in data:\n",
    "    new_data.append([i[0],i[1],categories[int(i[1])]])\n",
    "new_data=pd.DataFrame(new_data)\n",
    "new_data.columns=[\"text\",\"score\",\"category\"]"
   ]
  },
  {
   "cell_type": "code",
   "execution_count": 60,
   "id": "58c674aa",
   "metadata": {},
   "outputs": [],
   "source": [
    "X=new_data\n",
    "X.drop_duplicates(keep=\"first\", inplace=True)"
   ]
  },
  {
   "cell_type": "code",
   "execution_count": 61,
   "id": "d48fadd2",
   "metadata": {},
   "outputs": [],
   "source": [
    "count_vect = CountVectorizer()\n",
    "count_vect_P = CountVectorizer()\n",
    "count_vect_N = CountVectorizer()\n",
    "X_counts = count_vect.fit_transform(X.text)\n",
    "X_counts_P = count_vect_P.fit_transform(X[X[\"score\"]==\"1\"].text)\n",
    "X_counts_N = count_vect_N.fit_transform(X[X[\"score\"]==\"0\"].text)"
   ]
  },
  {
   "cell_type": "code",
   "execution_count": 7,
   "id": "1c00928c",
   "metadata": {},
   "outputs": [],
   "source": [
    "term_frequencies = []\n",
    "for j in range(0,X_counts.shape[1]):\n",
    "    term_frequencies.append(sum(X_counts[:,j].toarray()))\n",
    "term_frequencies = np.asarray(X_counts.sum(axis=0))[0]"
   ]
  },
  {
   "cell_type": "code",
   "execution_count": 8,
   "id": "e179abb7",
   "metadata": {},
   "outputs": [],
   "source": [
    "count_total=pd.DataFrame(term_frequencies, columns = ['frequencies'],index=count_vect.get_feature_names_out())"
   ]
  },
  {
   "cell_type": "code",
   "execution_count": 63,
   "id": "fb5e2d0f",
   "metadata": {},
   "outputs": [
    {
     "data": {
      "text/html": [
       "<div>\n",
       "<style scoped>\n",
       "    .dataframe tbody tr th:only-of-type {\n",
       "        vertical-align: middle;\n",
       "    }\n",
       "\n",
       "    .dataframe tbody tr th {\n",
       "        vertical-align: top;\n",
       "    }\n",
       "\n",
       "    .dataframe thead th {\n",
       "        text-align: right;\n",
       "    }\n",
       "</style>\n",
       "<table border=\"1\" class=\"dataframe\">\n",
       "  <thead>\n",
       "    <tr style=\"text-align: right;\">\n",
       "      <th></th>\n",
       "      <th>frequencies</th>\n",
       "    </tr>\n",
       "  </thead>\n",
       "  <tbody>\n",
       "    <tr>\n",
       "      <th>00</th>\n",
       "      <td>1</td>\n",
       "    </tr>\n",
       "    <tr>\n",
       "      <th>10</th>\n",
       "      <td>36</td>\n",
       "    </tr>\n",
       "    <tr>\n",
       "      <th>100</th>\n",
       "      <td>3</td>\n",
       "    </tr>\n",
       "    <tr>\n",
       "      <th>11</th>\n",
       "      <td>2</td>\n",
       "    </tr>\n",
       "    <tr>\n",
       "      <th>12</th>\n",
       "      <td>4</td>\n",
       "    </tr>\n",
       "    <tr>\n",
       "      <th>...</th>\n",
       "      <td>...</td>\n",
       "    </tr>\n",
       "    <tr>\n",
       "      <th>z500a</th>\n",
       "      <td>1</td>\n",
       "    </tr>\n",
       "    <tr>\n",
       "      <th>zero</th>\n",
       "      <td>6</td>\n",
       "    </tr>\n",
       "    <tr>\n",
       "      <th>zillion</th>\n",
       "      <td>1</td>\n",
       "    </tr>\n",
       "    <tr>\n",
       "      <th>zombie</th>\n",
       "      <td>2</td>\n",
       "    </tr>\n",
       "    <tr>\n",
       "      <th>zombiez</th>\n",
       "      <td>1</td>\n",
       "    </tr>\n",
       "  </tbody>\n",
       "</table>\n",
       "<p>5155 rows × 1 columns</p>\n",
       "</div>"
      ],
      "text/plain": [
       "         frequencies\n",
       "00                 1\n",
       "10                36\n",
       "100                3\n",
       "11                 2\n",
       "12                 4\n",
       "...              ...\n",
       "z500a              1\n",
       "zero               6\n",
       "zillion            1\n",
       "zombie             2\n",
       "zombiez            1\n",
       "\n",
       "[5155 rows x 1 columns]"
      ]
     },
     "execution_count": 63,
     "metadata": {},
     "output_type": "execute_result"
    }
   ],
   "source": [
    "count_total"
   ]
  },
  {
   "cell_type": "code",
   "execution_count": 9,
   "id": "1b6b24be",
   "metadata": {},
   "outputs": [],
   "source": [
    "term_frequencies_P = [] ## count words in positive sentence\n",
    "for j in range(0,X_counts_P.shape[1]):\n",
    "    term_frequencies_P.append(sum(X_counts_P[:,j].toarray()))\n",
    "term_frequencies_P = np.asarray(X_counts_P.sum(axis=0))[0]    "
   ]
  },
  {
   "cell_type": "code",
   "execution_count": 10,
   "id": "eff68d18",
   "metadata": {},
   "outputs": [],
   "source": [
    "term_frequencies_N = [] ## count words in negtive sentence\n",
    "for j in range(0,X_counts_N.shape[1]):\n",
    "    term_frequencies_N.append(sum(X_counts_P[:,j].toarray()))\n",
    "term_frequencies_N = np.asarray(X_counts_N.sum(axis=0))[0]       "
   ]
  },
  {
   "cell_type": "code",
   "execution_count": 11,
   "id": "51980a32",
   "metadata": {},
   "outputs": [],
   "source": [
    "count_total_P=pd.DataFrame(term_frequencies_P, columns = ['frequencies'],index=count_vect_P.get_feature_names_out())\n",
    "count_total_N=pd.DataFrame(term_frequencies_N, columns = ['frequencies'],index=count_vect_N.get_feature_names_out())"
   ]
  },
  {
   "cell_type": "code",
   "execution_count": 12,
   "id": "9ee36175",
   "metadata": {},
   "outputs": [],
   "source": [
    "count_total_final=pd.concat([count_total,count_total_P,count_total_N],axis=1) "
   ]
  },
  {
   "cell_type": "code",
   "execution_count": 13,
   "id": "c2ed806c",
   "metadata": {},
   "outputs": [],
   "source": [
    "count_total_final.fillna(0,inplace=True)## because some words are not in positive sentence or negtive sentence \n",
    "## dataframe will have some NaN  and it also means zero so change Nan to zero"
   ]
  },
  {
   "cell_type": "code",
   "execution_count": 14,
   "id": "66885fe3",
   "metadata": {},
   "outputs": [],
   "source": [
    "count_total_final.columns=[\"frequencies\",\"positive_times\",\"negative_times\"]"
   ]
  },
  {
   "cell_type": "code",
   "execution_count": 15,
   "id": "0db5143c",
   "metadata": {},
   "outputs": [],
   "source": [
    "count_total_final=count_total_final.astype(int)"
   ]
  },
  {
   "cell_type": "code",
   "execution_count": 104,
   "id": "25b45629",
   "metadata": {},
   "outputs": [
    {
     "data": {
      "text/plain": [
       "<AxesSubplot:title={'center':'compare P and N'}>"
      ]
     },
     "execution_count": 104,
     "metadata": {},
     "output_type": "execute_result"
    },
    {
     "data": {
      "image/png": "[encoded data removed]",
      "text/plain": [
       "<Figure size 1080x720 with 1 Axes>"
      ]
     },
     "metadata": {
      "needs_background": "light"
     },
     "output_type": "display_data"
    }
   ],
   "source": [
    "ylim=max(count_total_final[\"frequencies\"][:10])\n",
    "count_total_final[:10].plot(kind = 'bar',title = 'compare P and N',ylim = [0, ylim+10],rot = 0, fontsize = 11, figsize = (15,10),width=0.3)"
   ]
  },
  {
   "cell_type": "code",
   "execution_count": 111,
   "id": "7c135d6f",
   "metadata": {},
   "outputs": [
    {
     "data": {
      "text/plain": [
       "<AxesSubplot:title={'center':'compare P and N'}>"
      ]
     },
     "execution_count": 111,
     "metadata": {},
     "output_type": "execute_result"
    },
    {
     "data": {
      "image/png": "[encoded data removed]",
      "text/plain": [
       "<Figure size 1080x720 with 1 Axes>"
      ]
     },
     "metadata": {
      "needs_background": "light"
     },
     "output_type": "display_data"
    }
   ],
   "source": [
    "p=count_total_final.sort_values(by=['positive_times'],ascending=False)\n",
    "ylim=max(p[\"positive_times\"][:10])\n",
    "p[:10].plot(kind = 'bar',title = 'compare P and N',ylim = [0, ylim+10],rot = 0, fontsize = 11, figsize = (15,10),width=0.3)"
   ]
  },
  {
   "cell_type": "markdown",
   "id": "dd7c6e56",
   "metadata": {},
   "source": [
    "we almost can't observe something because higher positive_times actually higher negative_times"
   ]
  },
  {
   "cell_type": "code",
   "execution_count": 114,
   "id": "bdfb8bee",
   "metadata": {},
   "outputs": [
    {
     "data": {
      "text/plain": [
       "<AxesSubplot:title={'center':'compare P and N'}>"
      ]
     },
     "execution_count": 114,
     "metadata": {},
     "output_type": "execute_result"
    },
    {
     "data": {
      "image/png": "[encoded data removed]",
      "text/plain": [
       "<Figure size 1080x720 with 1 Axes>"
      ]
     },
     "metadata": {
      "needs_background": "light"
     },
     "output_type": "display_data"
    }
   ],
   "source": [
    "n=count_total_final.sort_values(by=['negative_times'],ascending=False)\n",
    "ylim=max(n[\"negative_times\"][:10])\n",
    "n[:10].plot(kind = 'bar',title = 'compare P and N',ylim = [0, ylim+10],rot = 0, fontsize = 11, figsize = (15,10),width=0.3)"
   ]
  },
  {
   "cell_type": "markdown",
   "id": "aec44424",
   "metadata": {},
   "source": [
    "almost like last result"
   ]
  },
  {
   "cell_type": "code",
   "execution_count": 16,
   "id": "649ade7e",
   "metadata": {},
   "outputs": [],
   "source": [
    "count_total_final[\"P-N\"]=count_total_final['positive_times']-count_total_final['negative_times']"
   ]
  },
  {
   "cell_type": "code",
   "execution_count": 17,
   "id": "af38919f",
   "metadata": {},
   "outputs": [],
   "source": [
    "count_total_final[\"N-P\"]=count_total_final['negative_times']-count_total_final['positive_times']## i am so stupid i just need to set minus count_total_final[\"P-N\"] "
   ]
  },
  {
   "cell_type": "markdown",
   "id": "70913dc1",
   "metadata": {},
   "source": [
    "so maybe i should find some way to get useful data visualization"
   ]
  },
  {
   "cell_type": "code",
   "execution_count": 118,
   "id": "43ffae1f",
   "metadata": {},
   "outputs": [
    {
     "data": {
      "text/plain": [
       "<AxesSubplot:title={'center':'compare P and N'}>"
      ]
     },
     "execution_count": 118,
     "metadata": {},
     "output_type": "execute_result"
    },
    {
     "data": {
      "image/png": "[encoded data removed]",
      "text/plain": [
       "<Figure size 1080x720 with 1 Axes>"
      ]
     },
     "metadata": {
      "needs_background": "light"
     },
     "output_type": "display_data"
    }
   ],
   "source": [
    "p=count_total_final.sort_values(by=['P-N'],ascending=False)\n",
    "ylim=max(p[\"P-N\"][:10])\n",
    "p[:10].plot(kind = 'bar',title = 'compare P and N',ylim = [0, ylim+10],rot = 0, fontsize = 11, figsize = (15,10),width=0.3)"
   ]
  },
  {
   "cell_type": "markdown",
   "id": "6c3ee75b",
   "metadata": {},
   "source": [
    "i find the way to visualize data that is useful (use positive_times substact negative_times)  \n",
    "and find something interesting => maybe people give positive evaluation usually not only say one place is good but also say  \n",
    "those place are good  \n",
    "and others words can be expected  \n"
   ]
  },
  {
   "cell_type": "code",
   "execution_count": 121,
   "id": "4b546c12",
   "metadata": {},
   "outputs": [
    {
     "data": {
      "text/plain": [
       "<AxesSubplot:title={'center':'compare P and N'}>"
      ]
     },
     "execution_count": 121,
     "metadata": {},
     "output_type": "execute_result"
    },
    {
     "data": {
      "image/png": "[encoded data removed]",
      "text/plain": [
       "<Figure size 1080x720 with 1 Axes>"
      ]
     },
     "metadata": {
      "needs_background": "light"
     },
     "output_type": "display_data"
    }
   ],
   "source": [
    "n=count_total_final.sort_values(by=['N-P'],ascending=False)\n",
    "ylim=max(n[\"N-P\"][:10])\n",
    "n[:10].plot(kind = 'bar',title = 'compare P and N',ylim = [0, ylim+10],rot = 0, fontsize = 11, figsize = (15,10),width=0.3)"
   ]
  },
  {
   "cell_type": "markdown",
   "id": "01b8a281",
   "metadata": {},
   "source": [
    "compare with last result maybe my guest is right   \n",
    "because i find those words => that there at   \n",
    "it exactly talking about which place is not good enough"
   ]
  },
  {
   "cell_type": "code",
   "execution_count": 25,
   "id": "2ff03517",
   "metadata": {},
   "outputs": [
    {
     "data": {
      "image/png": "[encoded data removed]",
      "text/plain": [
       "<Figure size 432x288 with 1 Axes>"
      ]
     },
     "metadata": {
      "needs_background": "light"
     },
     "output_type": "display_data"
    }
   ],
   "source": [
    "plt.scatter(count_total_final[\"positive_times\"],count_total_final[\"negative_times\"])\n",
    "plt.show()"
   ]
  },
  {
   "cell_type": "markdown",
   "id": "9c2cb56d",
   "metadata": {},
   "source": [
    "i think i just need to care about outlier which close to x-axis or y-axis  \n",
    "others are almost useful data"
   ]
  },
  {
   "cell_type": "markdown",
   "id": "7d5701e9",
   "metadata": {},
   "source": [
    "### TF-IDF features"
   ]
  },
  {
   "cell_type": "code",
   "execution_count": 9,
   "id": "68dc5eb3",
   "metadata": {},
   "outputs": [],
   "source": [
    "Tfid_fVect=TfidfVectorizer()\n",
    "X = Tfid_fVect.fit_transform(X.text)"
   ]
  },
  {
   "cell_type": "code",
   "execution_count": 35,
   "id": "66409f28",
   "metadata": {},
   "outputs": [
    {
     "data": {
      "text/plain": [
       "'be'"
      ]
     },
     "execution_count": 35,
     "metadata": {},
     "output_type": "execute_result"
    }
   ],
   "source": [
    "Tfid_fVect.get_feature_names_out()[416]"
   ]
  },
  {
   "cell_type": "code",
   "execution_count": 28,
   "id": "58412e4f",
   "metadata": {},
   "outputs": [
    {
     "data": {
      "text/plain": [
       "array([[0.        , 0.        , 0.        , 0.        , 0.        ,\n",
       "        0.        , 0.        , 0.        , 0.        , 0.        ,\n",
       "        0.        , 0.        , 0.        , 0.        , 0.        ,\n",
       "        0.        , 0.        , 0.        , 0.        , 0.        ],\n",
       "       [0.        , 0.        , 0.        , 0.        , 0.        ,\n",
       "        0.        , 0.        , 0.        , 0.        , 0.        ,\n",
       "        0.        , 0.        , 0.        , 0.        , 0.        ,\n",
       "        0.        , 0.        , 0.        , 0.        , 0.        ],\n",
       "       [0.        , 0.        , 0.        , 0.        , 0.        ,\n",
       "        0.        , 0.        , 0.        , 0.        , 0.        ,\n",
       "        0.        , 0.        , 0.        , 0.        , 0.        ,\n",
       "        0.        , 0.2277251 , 0.        , 0.        , 0.        ],\n",
       "       [0.        , 0.        , 0.        , 0.        , 0.        ,\n",
       "        0.        , 0.        , 0.        , 0.        , 0.        ,\n",
       "        0.        , 0.        , 0.        , 0.        , 0.28814192,\n",
       "        0.        , 0.        , 0.        , 0.        , 0.        ],\n",
       "       [0.        , 0.        , 0.        , 0.        , 0.        ,\n",
       "        0.        , 0.        , 0.        , 0.        , 0.        ,\n",
       "        0.        , 0.        , 0.        , 0.        , 0.        ,\n",
       "        0.        , 0.        , 0.        , 0.        , 0.        ],\n",
       "       [0.        , 0.        , 0.        , 0.        , 0.        ,\n",
       "        0.        , 0.        , 0.        , 0.        , 0.        ,\n",
       "        0.        , 0.        , 0.        , 0.        , 0.        ,\n",
       "        0.        , 0.        , 0.        , 0.        , 0.        ],\n",
       "       [0.        , 0.        , 0.        , 0.        , 0.        ,\n",
       "        0.        , 0.        , 0.        , 0.        , 0.        ,\n",
       "        0.        , 0.        , 0.        , 0.        , 0.        ,\n",
       "        0.        , 0.31872445, 0.        , 0.        , 0.        ],\n",
       "       [0.        , 0.        , 0.        , 0.        , 0.        ,\n",
       "        0.        , 0.        , 0.        , 0.        , 0.        ,\n",
       "        0.        , 0.        , 0.        , 0.        , 0.        ,\n",
       "        0.        , 0.        , 0.        , 0.        , 0.        ],\n",
       "       [0.        , 0.        , 0.        , 0.        , 0.        ,\n",
       "        0.        , 0.        , 0.        , 0.        , 0.        ,\n",
       "        0.        , 0.        , 0.        , 0.        , 0.        ,\n",
       "        0.        , 0.        , 0.        , 0.        , 0.        ],\n",
       "       [0.        , 0.        , 0.        , 0.        , 0.        ,\n",
       "        0.        , 0.        , 0.        , 0.        , 0.        ,\n",
       "        0.        , 0.        , 0.        , 0.        , 0.        ,\n",
       "        0.        , 0.        , 0.        , 0.        , 0.        ],\n",
       "       [0.        , 0.        , 0.        , 0.        , 0.        ,\n",
       "        0.        , 0.        , 0.        , 0.        , 0.        ,\n",
       "        0.        , 0.        , 0.        , 0.        , 0.        ,\n",
       "        0.        , 0.        , 0.        , 0.        , 0.        ],\n",
       "       [0.        , 0.        , 0.        , 0.        , 0.        ,\n",
       "        0.        , 0.        , 0.        , 0.        , 0.        ,\n",
       "        0.        , 0.        , 0.        , 0.        , 0.        ,\n",
       "        0.        , 0.        , 0.        , 0.        , 0.        ],\n",
       "       [0.        , 0.        , 0.        , 0.        , 0.        ,\n",
       "        0.        , 0.        , 0.        , 0.        , 0.        ,\n",
       "        0.        , 0.        , 0.        , 0.        , 0.        ,\n",
       "        0.        , 0.        , 0.        , 0.        , 0.        ],\n",
       "       [0.        , 0.        , 0.        , 0.        , 0.        ,\n",
       "        0.        , 0.        , 0.        , 0.        , 0.        ,\n",
       "        0.        , 0.        , 0.        , 0.        , 0.        ,\n",
       "        0.        , 0.26347571, 0.        , 0.        , 0.        ],\n",
       "       [0.        , 0.        , 0.        , 0.        , 0.        ,\n",
       "        0.        , 0.        , 0.        , 0.        , 0.        ,\n",
       "        0.        , 0.        , 0.        , 0.        , 0.        ,\n",
       "        0.        , 0.        , 0.        , 0.        , 0.        ],\n",
       "       [0.        , 0.        , 0.        , 0.        , 0.        ,\n",
       "        0.        , 0.        , 0.        , 0.        , 0.        ,\n",
       "        0.        , 0.        , 0.        , 0.        , 0.        ,\n",
       "        0.        , 0.        , 0.        , 0.        , 0.        ],\n",
       "       [0.        , 0.        , 0.        , 0.        , 0.        ,\n",
       "        0.        , 0.        , 0.        , 0.        , 0.        ,\n",
       "        0.        , 0.        , 0.        , 0.        , 0.        ,\n",
       "        0.        , 0.        , 0.        , 0.        , 0.        ],\n",
       "       [0.        , 0.        , 0.        , 0.        , 0.        ,\n",
       "        0.        , 0.        , 0.        , 0.        , 0.        ,\n",
       "        0.        , 0.        , 0.        , 0.        , 0.        ,\n",
       "        0.        , 0.        , 0.        , 0.        , 0.        ],\n",
       "       [0.        , 0.        , 0.        , 0.        , 0.        ,\n",
       "        0.        , 0.        , 0.        , 0.        , 0.        ,\n",
       "        0.        , 0.        , 0.        , 0.        , 0.        ,\n",
       "        0.        , 0.        , 0.        , 0.        , 0.        ],\n",
       "       [0.        , 0.        , 0.        , 0.        , 0.        ,\n",
       "        0.        , 0.        , 0.        , 0.        , 0.        ,\n",
       "        0.        , 0.        , 0.        , 0.        , 0.        ,\n",
       "        0.        , 0.        , 0.        , 0.        , 0.        ]])"
      ]
     },
     "execution_count": 28,
     "metadata": {},
     "output_type": "execute_result"
    }
   ],
   "source": [
    "X[400:420,400:420].toarray()"
   ]
  },
  {
   "cell_type": "code",
   "execution_count": 34,
   "id": "c4e6028c",
   "metadata": {},
   "outputs": [
    {
     "data": {
      "text/plain": [
       "\"I don't have to be an accountant to know I'm getting screwed!\""
      ]
     },
     "execution_count": 34,
     "metadata": {},
     "output_type": "execute_result"
    }
   ],
   "source": [
    "new_data.text[402]"
   ]
  },
  {
   "cell_type": "code",
   "execution_count": 36,
   "id": "d5179824",
   "metadata": {},
   "outputs": [
    {
     "data": {
      "text/plain": [
       "['don',\n",
       " 'have',\n",
       " 'to',\n",
       " 'be',\n",
       " 'an',\n",
       " 'accountant',\n",
       " 'to',\n",
       " 'know',\n",
       " 'getting',\n",
       " 'screwed']"
      ]
     },
     "execution_count": 36,
     "metadata": {},
     "output_type": "execute_result"
    }
   ],
   "source": [
    "analyze = Tfid_fVect.build_analyzer()\n",
    "analyze(new_data.text[402])##tf(i,j) * idf(i)"
   ]
  },
  {
   "cell_type": "markdown",
   "id": "cf844209",
   "metadata": {},
   "source": [
    "### Naive Bayes classifier"
   ]
  },
  {
   "cell_type": "code",
   "execution_count": 42,
   "id": "6b65e940",
   "metadata": {},
   "outputs": [],
   "source": [
    "from sklearn.naive_bayes import GaussianNB\n",
    "from sklearn.model_selection import train_test_split"
   ]
  },
  {
   "cell_type": "markdown",
   "id": "c3197ad9",
   "metadata": {},
   "source": [
    "##### use TF-IDF features to build classifiers"
   ]
  },
  {
   "cell_type": "code",
   "execution_count": 45,
   "id": "81c21197",
   "metadata": {},
   "outputs": [],
   "source": [
    "X_train, X_test, Y_train, Y_test = train_test_split(X.toarray(), new_data.score, test_size=0.25)"
   ]
  },
  {
   "cell_type": "code",
   "execution_count": 46,
   "id": "5fc4f44d",
   "metadata": {},
   "outputs": [],
   "source": [
    "gnb = GaussianNB()"
   ]
  },
  {
   "cell_type": "code",
   "execution_count": 47,
   "id": "88895fa3",
   "metadata": {},
   "outputs": [
    {
     "data": {
      "text/plain": [
       "GaussianNB()"
      ]
     },
     "execution_count": 47,
     "metadata": {},
     "output_type": "execute_result"
    }
   ],
   "source": [
    "gnb.fit(X_train, Y_train)"
   ]
  },
  {
   "cell_type": "code",
   "execution_count": 48,
   "id": "c8688b52",
   "metadata": {},
   "outputs": [],
   "source": [
    "Y_gnb_score = gnb.predict_proba(X_test)"
   ]
  },
  {
   "cell_type": "code",
   "execution_count": 49,
   "id": "89191215",
   "metadata": {},
   "outputs": [
    {
     "data": {
      "text/plain": [
       "array([[1.00000000e+000, 1.74063152e-309],\n",
       "       [1.00000000e+000, 0.00000000e+000],\n",
       "       [0.00000000e+000, 1.00000000e+000],\n",
       "       ...,\n",
       "       [0.00000000e+000, 1.00000000e+000],\n",
       "       [1.00000000e+000, 0.00000000e+000],\n",
       "       [0.00000000e+000, 1.00000000e+000]])"
      ]
     },
     "execution_count": 49,
     "metadata": {},
     "output_type": "execute_result"
    }
   ],
   "source": [
    "Y_gnb_score"
   ]
  },
  {
   "cell_type": "code",
   "execution_count": 55,
   "id": "ae343159",
   "metadata": {},
   "outputs": [],
   "source": [
    "from sklearn.metrics import roc_curve, auc\n",
    "from sklearn import metrics"
   ]
  },
  {
   "cell_type": "code",
   "execution_count": 57,
   "id": "63733738",
   "metadata": {},
   "outputs": [
    {
     "name": "stdout",
     "output_type": "stream",
     "text": [
      "accuracy:   0.673\n"
     ]
    }
   ],
   "source": [
    "y_pred = gnb.predict(X_test)\n",
    "score1 =metrics.accuracy_score(Y_test, y_pred)\n",
    "print(\"accuracy:   %0.3f\" % score1)"
   ]
  },
  {
   "cell_type": "code",
   "execution_count": 58,
   "id": "6af45601",
   "metadata": {},
   "outputs": [
    {
     "name": "stdout",
     "output_type": "stream",
     "text": [
      "              precision    recall  f1-score   support\n",
      "\n",
      "    Positive       0.65      0.80      0.72       384\n",
      "    Negative       0.72      0.53      0.61       362\n",
      "\n",
      "    accuracy                           0.67       746\n",
      "   macro avg       0.68      0.67      0.66       746\n",
      "weighted avg       0.68      0.67      0.67       746\n",
      "\n",
      "confusion matrix:\n",
      "[[309  75]\n",
      " [169 193]]\n"
     ]
    }
   ],
   "source": [
    "print(metrics.classification_report(Y_test, y_pred,\n",
    "                                            target_names=['Positive', 'Negative']))\n",
    "\n",
    "print(\"confusion matrix:\")\n",
    "print(metrics.confusion_matrix(Y_test, y_pred))"
   ]
  },
  {
   "cell_type": "markdown",
   "id": "6cad79b5",
   "metadata": {},
   "source": [
    "##### use word frequency features to build classifiers"
   ]
  },
  {
   "cell_type": "code",
   "execution_count": 63,
   "id": "6467911f",
   "metadata": {},
   "outputs": [],
   "source": [
    "X_train, X_test, Y_train, Y_test = train_test_split(X_counts.toarray(), new_data.score, test_size=0.25)"
   ]
  },
  {
   "cell_type": "code",
   "execution_count": 64,
   "id": "5f8d6944",
   "metadata": {},
   "outputs": [
    {
     "data": {
      "text/plain": [
       "GaussianNB()"
      ]
     },
     "execution_count": 64,
     "metadata": {},
     "output_type": "execute_result"
    }
   ],
   "source": [
    "gnb.fit(X_train, Y_train)"
   ]
  },
  {
   "cell_type": "code",
   "execution_count": 65,
   "id": "6ab1a7e2",
   "metadata": {},
   "outputs": [
    {
     "name": "stdout",
     "output_type": "stream",
     "text": [
      "accuracy:   0.677\n"
     ]
    }
   ],
   "source": [
    "y_pred = gnb.predict(X_test)\n",
    "score1 =metrics.accuracy_score(Y_test, y_pred)\n",
    "print(\"accuracy:   %0.3f\" % score1)"
   ]
  },
  {
   "cell_type": "code",
   "execution_count": 66,
   "id": "136ecbdb",
   "metadata": {},
   "outputs": [
    {
     "name": "stdout",
     "output_type": "stream",
     "text": [
      "              precision    recall  f1-score   support\n",
      "\n",
      "    Positive       0.63      0.89      0.74       379\n",
      "    Negative       0.81      0.45      0.58       367\n",
      "\n",
      "    accuracy                           0.68       746\n",
      "   macro avg       0.72      0.67      0.66       746\n",
      "weighted avg       0.72      0.68      0.66       746\n",
      "\n",
      "confusion matrix:\n",
      "[[339  40]\n",
      " [201 166]]\n"
     ]
    }
   ],
   "source": [
    "print(metrics.classification_report(Y_test, y_pred,\n",
    "                                            target_names=['Positive', 'Negative']))\n",
    "\n",
    "print(\"confusion matrix:\")\n",
    "print(metrics.confusion_matrix(Y_test, y_pred))"
   ]
  },
  {
   "cell_type": "markdown",
   "id": "bd26b261",
   "metadata": {},
   "source": [
    "just look at result there are almost nothing diffirent  \n",
    "but look at negative turn  neither two models  are not good at negative turn  \n",
    "model two(word frequency) is worse than model one even it's accuracy better  \n",
    "so somthing can improve is let negtive turn accuracy higher "
   ]
  },
  {
   "cell_type": "code",
   "execution_count": null,
   "id": "17dfaf52",
   "metadata": {},
   "outputs": [],
   "source": []
  }
 ],
 "metadata": {
  "kernelspec": {
   "display_name": "Python 3 (ipykernel)",
   "language": "python",
   "name": "python3"
  },
  "language_info": {
   "codemirror_mode": {
    "name": "ipython",
    "version": 3
   },
   "file_extension": ".py",
   "mimetype": "text/x-python",
   "name": "python",
   "nbconvert_exporter": "python",
   "pygments_lexer": "ipython3",
   "version": "3.9.12"
  }
 },
 "nbformat": 4,
 "nbformat_minor": 5
}
