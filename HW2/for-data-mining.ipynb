{
 "cells": [
  {
   "cell_type": "code",
   "execution_count": 1,
   "id": "8b70399d",
   "metadata": {
    "_cell_guid": "b1076dfc-b9ad-4769-8c92-a6c4dae69d19",
    "_uuid": "8f2839f25d086af736a60e9eeb907d3b93b6e0e5",
    "execution": {
     "iopub.execute_input": "2022-11-20T07:27:49.239884Z",
     "iopub.status.busy": "2022-11-20T07:27:49.239386Z",
     "iopub.status.idle": "2022-11-20T07:27:55.036669Z",
     "shell.execute_reply": "2022-11-20T07:27:55.035618Z"
    },
    "papermill": {
     "duration": 5.80998,
     "end_time": "2022-11-20T07:27:55.039877",
     "exception": false,
     "start_time": "2022-11-20T07:27:49.229897",
     "status": "completed"
    },
    "tags": []
   },
   "outputs": [
    {
     "name": "stdout",
     "output_type": "stream",
     "text": [
      "/kaggle/input/tweets/tweets_DM.json\n",
      "/kaggle/input/googlenews/GoogleNews-vectors-negative300.bin\n",
      "/kaggle/input/glove6b100dtxt/glove.6B.100d.txt\n",
      "/kaggle/input/data-id/data_identification.csv\n",
      "/kaggle/input/emotion/emotion.csv\n"
     ]
    }
   ],
   "source": [
    "# This Python 3 environment comes with many helpful analytics libraries installed\n",
    "# It is defined by the kaggle/python Docker image: https://github.com/kaggle/docker-python\n",
    "# For example, here's several helpful packages to load\n",
    "\n",
    "import numpy as np # linear algebra\n",
    "import pandas as pd # data processing, CSV file I/O (e.g. pd.read_csv)\n",
    "import json \n",
    "import csv\n",
    "from sklearn.preprocessing import LabelEncoder\n",
    "from sklearn import model_selection\n",
    "from gensim.models import KeyedVectors\n",
    "import keras\n",
    "from keras.preprocessing.text import Tokenizer\n",
    "from keras.preprocessing.sequence import pad_sequences\n",
    "from keras.models import Sequential\n",
    "from keras.layers import Dense\n",
    "from keras.layers import Flatten\n",
    "from keras.layers import Embedding\n",
    "from keras.layers import Dropout\n",
    "from keras.callbacks import ModelCheckpoint\n",
    "import gc\n",
    "\n",
    "# Input data files are available in the read-only \"../input/\" directory\n",
    "# For example, running this (by clicking run or pressing Shift+Enter) will list all files under the input directory\n",
    "\n",
    "import os\n",
    "for dirname, _, filenames in os.walk('/kaggle/input'):\n",
    "    for filename in filenames:\n",
    "        print(os.path.join(dirname, filename))\n",
    "\n",
    "# You can write up to 20GB to the current directory (/kaggle/working/) that gets preserved as output when you create a version using \"Save & Run All\" \n",
    "# You can also write temporary files to /kaggle/temp/, but they won't be saved outside of the current session"
   ]
  },
  {
   "cell_type": "code",
   "execution_count": 2,
   "id": "3929903e",
   "metadata": {
    "execution": {
     "iopub.execute_input": "2022-11-20T07:27:55.057135Z",
     "iopub.status.busy": "2022-11-20T07:27:55.055893Z",
     "iopub.status.idle": "2022-11-20T07:28:24.532003Z",
     "shell.execute_reply": "2022-11-20T07:28:24.530718Z"
    },
    "papermill": {
     "duration": 29.486811,
     "end_time": "2022-11-20T07:28:24.534707",
     "exception": false,
     "start_time": "2022-11-20T07:27:55.047896",
     "status": "completed"
    },
    "tags": []
   },
   "outputs": [
    {
     "name": "stdout",
     "output_type": "stream",
     "text": [
      "<class 'list'>\n"
     ]
    }
   ],
   "source": [
    "file=open('../input/tweets/tweets_DM.json')\n",
    "data=[]\n",
    "for line in file.readlines():\n",
    "    data.append(json.loads(line)) \n",
    "print(type(data))"
   ]
  },
  {
   "cell_type": "code",
   "execution_count": 3,
   "id": "eb33f516",
   "metadata": {
    "execution": {
     "iopub.execute_input": "2022-11-20T07:28:24.552144Z",
     "iopub.status.busy": "2022-11-20T07:28:24.550641Z",
     "iopub.status.idle": "2022-11-20T07:28:24.559817Z",
     "shell.execute_reply": "2022-11-20T07:28:24.558805Z"
    },
    "papermill": {
     "duration": 0.019223,
     "end_time": "2022-11-20T07:28:24.561834",
     "exception": false,
     "start_time": "2022-11-20T07:28:24.542611",
     "status": "completed"
    },
    "tags": []
   },
   "outputs": [
    {
     "data": {
      "text/plain": [
       "<function TextIOWrapper.close()>"
      ]
     },
     "execution_count": 3,
     "metadata": {},
     "output_type": "execute_result"
    }
   ],
   "source": [
    "file.close"
   ]
  },
  {
   "cell_type": "code",
   "execution_count": 4,
   "id": "5bfdba66",
   "metadata": {
    "execution": {
     "iopub.execute_input": "2022-11-20T07:28:24.576864Z",
     "iopub.status.busy": "2022-11-20T07:28:24.576588Z",
     "iopub.status.idle": "2022-11-20T07:28:25.184927Z",
     "shell.execute_reply": "2022-11-20T07:28:25.183891Z"
    },
    "papermill": {
     "duration": 0.618458,
     "end_time": "2022-11-20T07:28:25.187273",
     "exception": false,
     "start_time": "2022-11-20T07:28:24.568815",
     "status": "completed"
    },
    "tags": []
   },
   "outputs": [],
   "source": [
    "data_pro=[]\n",
    "for i in data:\n",
    "    data_pro.append(i[\"_source\"]['tweet']) ##get id and text and #"
   ]
  },
  {
   "cell_type": "code",
   "execution_count": 5,
   "id": "9d4fda15",
   "metadata": {
    "execution": {
     "iopub.execute_input": "2022-11-20T07:28:25.203272Z",
     "iopub.status.busy": "2022-11-20T07:28:25.202976Z",
     "iopub.status.idle": "2022-11-20T07:28:25.209213Z",
     "shell.execute_reply": "2022-11-20T07:28:25.207939Z"
    },
    "papermill": {
     "duration": 0.01651,
     "end_time": "2022-11-20T07:28:25.211335",
     "exception": false,
     "start_time": "2022-11-20T07:28:25.194825",
     "status": "completed"
    },
    "tags": []
   },
   "outputs": [
    {
     "name": "stdout",
     "output_type": "stream",
     "text": [
      "people who post \"add me on #snapchat\" must be dehydrated. cuz man.... that's <lh>\n"
     ]
    }
   ],
   "source": [
    "print(data_pro[0][\"text\"].lower())"
   ]
  },
  {
   "cell_type": "code",
   "execution_count": 6,
   "id": "2ab30e0d",
   "metadata": {
    "execution": {
     "iopub.execute_input": "2022-11-20T07:28:25.228088Z",
     "iopub.status.busy": "2022-11-20T07:28:25.227835Z",
     "iopub.status.idle": "2022-11-20T07:28:26.382870Z",
     "shell.execute_reply": "2022-11-20T07:28:26.381859Z"
    },
    "papermill": {
     "duration": 1.165461,
     "end_time": "2022-11-20T07:28:26.385233",
     "exception": false,
     "start_time": "2022-11-20T07:28:25.219772",
     "status": "completed"
    },
    "tags": []
   },
   "outputs": [],
   "source": [
    "for i in data_pro:\n",
    "    i[\"text\"]=i[\"text\"].lower()"
   ]
  },
  {
   "cell_type": "code",
   "execution_count": 7,
   "id": "fb7b384e",
   "metadata": {
    "execution": {
     "iopub.execute_input": "2022-11-20T07:28:26.401197Z",
     "iopub.status.busy": "2022-11-20T07:28:26.400904Z",
     "iopub.status.idle": "2022-11-20T07:28:26.406769Z",
     "shell.execute_reply": "2022-11-20T07:28:26.405854Z"
    },
    "papermill": {
     "duration": 0.016181,
     "end_time": "2022-11-20T07:28:26.408886",
     "exception": false,
     "start_time": "2022-11-20T07:28:26.392705",
     "status": "completed"
    },
    "tags": []
   },
   "outputs": [
    {
     "data": {
      "text/plain": [
       "{'hashtags': ['Snapchat'],\n",
       " 'tweet_id': '0x376b20',\n",
       " 'text': 'people who post \"add me on #snapchat\" must be dehydrated. cuz man.... that\\'s <lh>'}"
      ]
     },
     "execution_count": 7,
     "metadata": {},
     "output_type": "execute_result"
    }
   ],
   "source": [
    "data_pro[0]"
   ]
  },
  {
   "cell_type": "code",
   "execution_count": 8,
   "id": "98605747",
   "metadata": {
    "execution": {
     "iopub.execute_input": "2022-11-20T07:28:26.424779Z",
     "iopub.status.busy": "2022-11-20T07:28:26.424488Z",
     "iopub.status.idle": "2022-11-20T07:28:30.568510Z",
     "shell.execute_reply": "2022-11-20T07:28:30.567375Z"
    },
    "papermill": {
     "duration": 4.156882,
     "end_time": "2022-11-20T07:28:30.573145",
     "exception": false,
     "start_time": "2022-11-20T07:28:26.416263",
     "status": "completed"
    },
    "tags": []
   },
   "outputs": [
    {
     "name": "stdout",
     "output_type": "stream",
     "text": [
      "         tweet_id                                               text\n",
      "0        0x376b20  people who post \"add me on #snapchat\" must be ...\n",
      "1        0x2d5350  @brianklaas as we see, trump is dangerous to #...\n",
      "2        0x28b412  confident of your obedience, i write to you, k...\n",
      "3        0x1cd5b0                now issa is stalking tasha 😂😂😂 <lh>\n",
      "4        0x2de201  \"trust is not the same as faith. a friend is s...\n",
      "...           ...                                                ...\n",
      "1867530  0x316b80  when you buy the last 2 tickets remaining for ...\n",
      "1867531  0x29d0cb  i swear all this hard work gone pay off one da...\n",
      "1867532  0x2a6a4f  @parcel2go no card left when i wasn't in so i ...\n",
      "1867533  0x24faed  ah, corporate life, where you can date <lh> us...\n",
      "1867534  0x34be8c             blessed to be living #sundayvibes <lh>\n",
      "\n",
      "[1867535 rows x 2 columns]\n"
     ]
    }
   ],
   "source": [
    "data=pd.DataFrame(data_pro)\n",
    "data=data.drop(columns=[\"hashtags\"]) \n",
    "print(data)\n",
    "del data_pro"
   ]
  },
  {
   "cell_type": "code",
   "execution_count": 9,
   "id": "560e21ae",
   "metadata": {
    "execution": {
     "iopub.execute_input": "2022-11-20T07:28:30.593669Z",
     "iopub.status.busy": "2022-11-20T07:28:30.592733Z",
     "iopub.status.idle": "2022-11-20T07:28:30.601075Z",
     "shell.execute_reply": "2022-11-20T07:28:30.600230Z"
    },
    "papermill": {
     "duration": 0.01991,
     "end_time": "2022-11-20T07:28:30.603088",
     "exception": false,
     "start_time": "2022-11-20T07:28:30.583178",
     "status": "completed"
    },
    "tags": []
   },
   "outputs": [],
   "source": [
    "file_csv_id=open(r'../input/data-id/data_identification.csv')\n",
    "file_csv_em=open(r'../input/emotion/emotion.csv')"
   ]
  },
  {
   "cell_type": "code",
   "execution_count": 10,
   "id": "66998a7d",
   "metadata": {
    "execution": {
     "iopub.execute_input": "2022-11-20T07:28:30.618758Z",
     "iopub.status.busy": "2022-11-20T07:28:30.618465Z",
     "iopub.status.idle": "2022-11-20T07:28:31.801398Z",
     "shell.execute_reply": "2022-11-20T07:28:31.800316Z"
    },
    "papermill": {
     "duration": 1.193623,
     "end_time": "2022-11-20T07:28:31.803907",
     "exception": false,
     "start_time": "2022-11-20T07:28:30.610284",
     "status": "completed"
    },
    "tags": []
   },
   "outputs": [],
   "source": [
    "csv_read_data=csv.reader(file_csv_id)\n",
    "csv_read_list = list(csv_read_data)\n",
    "del file_csv_id"
   ]
  },
  {
   "cell_type": "code",
   "execution_count": 11,
   "id": "8bad7e29",
   "metadata": {
    "execution": {
     "iopub.execute_input": "2022-11-20T07:28:31.820273Z",
     "iopub.status.busy": "2022-11-20T07:28:31.819978Z",
     "iopub.status.idle": "2022-11-20T07:28:32.355120Z",
     "shell.execute_reply": "2022-11-20T07:28:32.354127Z"
    },
    "papermill": {
     "duration": 0.546118,
     "end_time": "2022-11-20T07:28:32.357753",
     "exception": false,
     "start_time": "2022-11-20T07:28:31.811635",
     "status": "completed"
    },
    "tags": []
   },
   "outputs": [],
   "source": [
    "identity=pd.DataFrame(csv_read_list)\n",
    "identity.drop([0],inplace=True)\n",
    "identity.rename(columns={0:\"tweet_id\",1:\"class\"},inplace=True)"
   ]
  },
  {
   "cell_type": "code",
   "execution_count": 12,
   "id": "c65dd292",
   "metadata": {
    "execution": {
     "iopub.execute_input": "2022-11-20T07:28:32.375321Z",
     "iopub.status.busy": "2022-11-20T07:28:32.375027Z",
     "iopub.status.idle": "2022-11-20T07:28:34.593492Z",
     "shell.execute_reply": "2022-11-20T07:28:34.592469Z"
    },
    "papermill": {
     "duration": 2.230019,
     "end_time": "2022-11-20T07:28:34.595995",
     "exception": false,
     "start_time": "2022-11-20T07:28:32.365976",
     "status": "completed"
    },
    "tags": []
   },
   "outputs": [],
   "source": [
    "csv_read_data=csv.reader(file_csv_em)\n",
    "csv_read_list = list(csv_read_data)\n",
    "emotion=pd.DataFrame(csv_read_list)\n",
    "emotion.drop([0],inplace=True)\n",
    "emotion.rename(columns={0:\"tweet_id\",1:\"emotion\"},inplace=True)\n",
    "del file_csv_em"
   ]
  },
  {
   "cell_type": "code",
   "execution_count": 13,
   "id": "e4809243",
   "metadata": {
    "execution": {
     "iopub.execute_input": "2022-11-20T07:28:34.612934Z",
     "iopub.status.busy": "2022-11-20T07:28:34.612630Z",
     "iopub.status.idle": "2022-11-20T07:28:34.625377Z",
     "shell.execute_reply": "2022-11-20T07:28:34.624448Z"
    },
    "papermill": {
     "duration": 0.023472,
     "end_time": "2022-11-20T07:28:34.627485",
     "exception": false,
     "start_time": "2022-11-20T07:28:34.604013",
     "status": "completed"
    },
    "tags": []
   },
   "outputs": [
    {
     "data": {
      "text/html": [
       "<div>\n",
       "<style scoped>\n",
       "    .dataframe tbody tr th:only-of-type {\n",
       "        vertical-align: middle;\n",
       "    }\n",
       "\n",
       "    .dataframe tbody tr th {\n",
       "        vertical-align: top;\n",
       "    }\n",
       "\n",
       "    .dataframe thead th {\n",
       "        text-align: right;\n",
       "    }\n",
       "</style>\n",
       "<table border=\"1\" class=\"dataframe\">\n",
       "  <thead>\n",
       "    <tr style=\"text-align: right;\">\n",
       "      <th></th>\n",
       "      <th>tweet_id</th>\n",
       "      <th>emotion</th>\n",
       "    </tr>\n",
       "  </thead>\n",
       "  <tbody>\n",
       "    <tr>\n",
       "      <th>1</th>\n",
       "      <td>0x3140b1</td>\n",
       "      <td>sadness</td>\n",
       "    </tr>\n",
       "    <tr>\n",
       "      <th>2</th>\n",
       "      <td>0x368b73</td>\n",
       "      <td>disgust</td>\n",
       "    </tr>\n",
       "    <tr>\n",
       "      <th>3</th>\n",
       "      <td>0x296183</td>\n",
       "      <td>anticipation</td>\n",
       "    </tr>\n",
       "    <tr>\n",
       "      <th>4</th>\n",
       "      <td>0x2bd6e1</td>\n",
       "      <td>joy</td>\n",
       "    </tr>\n",
       "    <tr>\n",
       "      <th>5</th>\n",
       "      <td>0x2ee1dd</td>\n",
       "      <td>anticipation</td>\n",
       "    </tr>\n",
       "    <tr>\n",
       "      <th>...</th>\n",
       "      <td>...</td>\n",
       "      <td>...</td>\n",
       "    </tr>\n",
       "    <tr>\n",
       "      <th>1455559</th>\n",
       "      <td>0x38dba0</td>\n",
       "      <td>joy</td>\n",
       "    </tr>\n",
       "    <tr>\n",
       "      <th>1455560</th>\n",
       "      <td>0x300ea2</td>\n",
       "      <td>joy</td>\n",
       "    </tr>\n",
       "    <tr>\n",
       "      <th>1455561</th>\n",
       "      <td>0x360b99</td>\n",
       "      <td>fear</td>\n",
       "    </tr>\n",
       "    <tr>\n",
       "      <th>1455562</th>\n",
       "      <td>0x22eecf</td>\n",
       "      <td>joy</td>\n",
       "    </tr>\n",
       "    <tr>\n",
       "      <th>1455563</th>\n",
       "      <td>0x2fb282</td>\n",
       "      <td>anticipation</td>\n",
       "    </tr>\n",
       "  </tbody>\n",
       "</table>\n",
       "<p>1455563 rows × 2 columns</p>\n",
       "</div>"
      ],
      "text/plain": [
       "         tweet_id       emotion\n",
       "1        0x3140b1       sadness\n",
       "2        0x368b73       disgust\n",
       "3        0x296183  anticipation\n",
       "4        0x2bd6e1           joy\n",
       "5        0x2ee1dd  anticipation\n",
       "...           ...           ...\n",
       "1455559  0x38dba0           joy\n",
       "1455560  0x300ea2           joy\n",
       "1455561  0x360b99          fear\n",
       "1455562  0x22eecf           joy\n",
       "1455563  0x2fb282  anticipation\n",
       "\n",
       "[1455563 rows x 2 columns]"
      ]
     },
     "execution_count": 13,
     "metadata": {},
     "output_type": "execute_result"
    }
   ],
   "source": [
    "emotion"
   ]
  },
  {
   "cell_type": "code",
   "execution_count": 14,
   "id": "65b91830",
   "metadata": {
    "execution": {
     "iopub.execute_input": "2022-11-20T07:28:34.643495Z",
     "iopub.status.busy": "2022-11-20T07:28:34.643240Z",
     "iopub.status.idle": "2022-11-20T07:28:37.884887Z",
     "shell.execute_reply": "2022-11-20T07:28:37.883883Z"
    },
    "papermill": {
     "duration": 3.252606,
     "end_time": "2022-11-20T07:28:37.887579",
     "exception": false,
     "start_time": "2022-11-20T07:28:34.634973",
     "status": "completed"
    },
    "tags": []
   },
   "outputs": [],
   "source": [
    "data=pd.merge(data,identity)"
   ]
  },
  {
   "cell_type": "code",
   "execution_count": 15,
   "id": "18d26ba1",
   "metadata": {
    "execution": {
     "iopub.execute_input": "2022-11-20T07:28:37.904515Z",
     "iopub.status.busy": "2022-11-20T07:28:37.904207Z",
     "iopub.status.idle": "2022-11-20T07:28:37.917469Z",
     "shell.execute_reply": "2022-11-20T07:28:37.916557Z"
    },
    "papermill": {
     "duration": 0.024133,
     "end_time": "2022-11-20T07:28:37.919655",
     "exception": false,
     "start_time": "2022-11-20T07:28:37.895522",
     "status": "completed"
    },
    "tags": []
   },
   "outputs": [
    {
     "data": {
      "text/html": [
       "<div>\n",
       "<style scoped>\n",
       "    .dataframe tbody tr th:only-of-type {\n",
       "        vertical-align: middle;\n",
       "    }\n",
       "\n",
       "    .dataframe tbody tr th {\n",
       "        vertical-align: top;\n",
       "    }\n",
       "\n",
       "    .dataframe thead th {\n",
       "        text-align: right;\n",
       "    }\n",
       "</style>\n",
       "<table border=\"1\" class=\"dataframe\">\n",
       "  <thead>\n",
       "    <tr style=\"text-align: right;\">\n",
       "      <th></th>\n",
       "      <th>tweet_id</th>\n",
       "      <th>text</th>\n",
       "      <th>class</th>\n",
       "    </tr>\n",
       "  </thead>\n",
       "  <tbody>\n",
       "    <tr>\n",
       "      <th>0</th>\n",
       "      <td>0x376b20</td>\n",
       "      <td>people who post \"add me on #snapchat\" must be ...</td>\n",
       "      <td>train</td>\n",
       "    </tr>\n",
       "    <tr>\n",
       "      <th>1</th>\n",
       "      <td>0x2d5350</td>\n",
       "      <td>@brianklaas as we see, trump is dangerous to #...</td>\n",
       "      <td>train</td>\n",
       "    </tr>\n",
       "    <tr>\n",
       "      <th>2</th>\n",
       "      <td>0x28b412</td>\n",
       "      <td>confident of your obedience, i write to you, k...</td>\n",
       "      <td>test</td>\n",
       "    </tr>\n",
       "    <tr>\n",
       "      <th>3</th>\n",
       "      <td>0x1cd5b0</td>\n",
       "      <td>now issa is stalking tasha 😂😂😂 &lt;lh&gt;</td>\n",
       "      <td>train</td>\n",
       "    </tr>\n",
       "    <tr>\n",
       "      <th>4</th>\n",
       "      <td>0x2de201</td>\n",
       "      <td>\"trust is not the same as faith. a friend is s...</td>\n",
       "      <td>test</td>\n",
       "    </tr>\n",
       "    <tr>\n",
       "      <th>...</th>\n",
       "      <td>...</td>\n",
       "      <td>...</td>\n",
       "      <td>...</td>\n",
       "    </tr>\n",
       "    <tr>\n",
       "      <th>1867530</th>\n",
       "      <td>0x316b80</td>\n",
       "      <td>when you buy the last 2 tickets remaining for ...</td>\n",
       "      <td>test</td>\n",
       "    </tr>\n",
       "    <tr>\n",
       "      <th>1867531</th>\n",
       "      <td>0x29d0cb</td>\n",
       "      <td>i swear all this hard work gone pay off one da...</td>\n",
       "      <td>test</td>\n",
       "    </tr>\n",
       "    <tr>\n",
       "      <th>1867532</th>\n",
       "      <td>0x2a6a4f</td>\n",
       "      <td>@parcel2go no card left when i wasn't in so i ...</td>\n",
       "      <td>test</td>\n",
       "    </tr>\n",
       "    <tr>\n",
       "      <th>1867533</th>\n",
       "      <td>0x24faed</td>\n",
       "      <td>ah, corporate life, where you can date &lt;lh&gt; us...</td>\n",
       "      <td>train</td>\n",
       "    </tr>\n",
       "    <tr>\n",
       "      <th>1867534</th>\n",
       "      <td>0x34be8c</td>\n",
       "      <td>blessed to be living #sundayvibes &lt;lh&gt;</td>\n",
       "      <td>train</td>\n",
       "    </tr>\n",
       "  </tbody>\n",
       "</table>\n",
       "<p>1867535 rows × 3 columns</p>\n",
       "</div>"
      ],
      "text/plain": [
       "         tweet_id                                               text  class\n",
       "0        0x376b20  people who post \"add me on #snapchat\" must be ...  train\n",
       "1        0x2d5350  @brianklaas as we see, trump is dangerous to #...  train\n",
       "2        0x28b412  confident of your obedience, i write to you, k...   test\n",
       "3        0x1cd5b0                now issa is stalking tasha 😂😂😂 <lh>  train\n",
       "4        0x2de201  \"trust is not the same as faith. a friend is s...   test\n",
       "...           ...                                                ...    ...\n",
       "1867530  0x316b80  when you buy the last 2 tickets remaining for ...   test\n",
       "1867531  0x29d0cb  i swear all this hard work gone pay off one da...   test\n",
       "1867532  0x2a6a4f  @parcel2go no card left when i wasn't in so i ...   test\n",
       "1867533  0x24faed  ah, corporate life, where you can date <lh> us...  train\n",
       "1867534  0x34be8c             blessed to be living #sundayvibes <lh>  train\n",
       "\n",
       "[1867535 rows x 3 columns]"
      ]
     },
     "execution_count": 15,
     "metadata": {},
     "output_type": "execute_result"
    }
   ],
   "source": [
    "data"
   ]
  },
  {
   "cell_type": "code",
   "execution_count": 16,
   "id": "a469928b",
   "metadata": {
    "execution": {
     "iopub.execute_input": "2022-11-20T07:28:37.936506Z",
     "iopub.status.busy": "2022-11-20T07:28:37.936225Z",
     "iopub.status.idle": "2022-11-20T07:30:06.631977Z",
     "shell.execute_reply": "2022-11-20T07:30:06.630955Z"
    },
    "papermill": {
     "duration": 88.707127,
     "end_time": "2022-11-20T07:30:06.634585",
     "exception": false,
     "start_time": "2022-11-20T07:28:37.927458",
     "status": "completed"
    },
    "tags": []
   },
   "outputs": [],
   "source": [
    "max_len=len(max(data['text'],key=len))\n",
    "t = Tokenizer(filters='!\"#$%&()*+,-./:;<=>?@[\\]^_`{|}~ ') ##when we do tokenlize we don't want to tokenlize some mark so filt it\n",
    "t.fit_on_texts(data[\"text\"])\n",
    "vocab_size = len(t.word_index) + 1\n",
    "# integer encode the documents\n",
    "data[\"text\"] =t.texts_to_sequences(data[\"text\"])\n",
    "data[\"text\"] = list(pad_sequences(data[\"text\"], maxlen=max_len, padding='post'))"
   ]
  },
  {
   "cell_type": "code",
   "execution_count": 17,
   "id": "005cf71b",
   "metadata": {
    "execution": {
     "iopub.execute_input": "2022-11-20T07:30:06.653035Z",
     "iopub.status.busy": "2022-11-20T07:30:06.652697Z",
     "iopub.status.idle": "2022-11-20T07:30:06.666774Z",
     "shell.execute_reply": "2022-11-20T07:30:06.665754Z"
    },
    "papermill": {
     "duration": 0.025703,
     "end_time": "2022-11-20T07:30:06.669157",
     "exception": false,
     "start_time": "2022-11-20T07:30:06.643454",
     "status": "completed"
    },
    "tags": []
   },
   "outputs": [
    {
     "data": {
      "text/plain": [
       "0          [59, 61, 555, 1118, 17, 13, 1193, 301, 18, 205...\n",
       "1          [14258, 52, 30, 75, 202, 8, 2553, 3, 33027, 27...\n",
       "2          [2982, 11, 16, 3679, 4, 942, 3, 7, 951, 15, 7,...\n",
       "3          [58, 608, 8, 6616, 2449, 933, 1, 0, 0, 0, 0, 0...\n",
       "4          [364, 8, 27, 2, 217, 52, 224, 5, 309, 8, 145, ...\n",
       "                                 ...                        \n",
       "1867530    [31, 7, 229, 2, 120, 63, 757, 6064, 9, 5, 171,...\n",
       "1867531    [4, 1204, 26, 20, 259, 89, 526, 511, 132, 48, ...\n",
       "1867532    [80807, 47, 1021, 326, 31, 4, 751, 10, 22, 4, ...\n",
       "1867533    [2114, 4609, 32, 150, 7, 43, 837, 1, 752, 25, ...\n",
       "1867534    [179, 3, 18, 424, 15283, 1, 0, 0, 0, 0, 0, 0, ...\n",
       "Name: text, Length: 1867535, dtype: object"
      ]
     },
     "execution_count": 17,
     "metadata": {},
     "output_type": "execute_result"
    }
   ],
   "source": [
    "data[\"text\"]"
   ]
  },
  {
   "cell_type": "code",
   "execution_count": 18,
   "id": "46faa2d1",
   "metadata": {
    "execution": {
     "iopub.execute_input": "2022-11-20T07:30:06.687338Z",
     "iopub.status.busy": "2022-11-20T07:30:06.687078Z",
     "iopub.status.idle": "2022-11-20T07:30:06.691102Z",
     "shell.execute_reply": "2022-11-20T07:30:06.690143Z"
    },
    "papermill": {
     "duration": 0.015409,
     "end_time": "2022-11-20T07:30:06.693193",
     "exception": false,
     "start_time": "2022-11-20T07:30:06.677784",
     "status": "completed"
    },
    "tags": []
   },
   "outputs": [],
   "source": [
    "##data[\"text\"]=list(np.asarray(list(data[\"text\"].to_numpy())).astype('int32'))"
   ]
  },
  {
   "cell_type": "code",
   "execution_count": 19,
   "id": "ecf5b02d",
   "metadata": {
    "execution": {
     "iopub.execute_input": "2022-11-20T07:30:06.711894Z",
     "iopub.status.busy": "2022-11-20T07:30:06.711098Z",
     "iopub.status.idle": "2022-11-20T07:30:17.402683Z",
     "shell.execute_reply": "2022-11-20T07:30:17.401682Z"
    },
    "papermill": {
     "duration": 10.703385,
     "end_time": "2022-11-20T07:30:17.405320",
     "exception": false,
     "start_time": "2022-11-20T07:30:06.701935",
     "status": "completed"
    },
    "tags": []
   },
   "outputs": [],
   "source": [
    "# load the whole embedding into memory\n",
    "embeddings_index = dict()\n",
    "f = open('../input/glove6b100dtxt/glove.6B.100d.txt') ##This file is like googlenews to transform word to vector i chose this model is because googlenew is dim 300 to large that session will refrash(over ram)\n",
    "##And this model is 100 dim \n",
    "for line in f:\n",
    "    values = line.split()\n",
    "    word = values[0]\n",
    "    coefs = np.asarray(values[1:], dtype='float32')\n",
    "    embeddings_index[word] = coefs\n",
    "f.close()"
   ]
  },
  {
   "cell_type": "code",
   "execution_count": 20,
   "id": "88804bd5",
   "metadata": {
    "execution": {
     "iopub.execute_input": "2022-11-20T07:30:17.424362Z",
     "iopub.status.busy": "2022-11-20T07:30:17.422699Z",
     "iopub.status.idle": "2022-11-20T07:30:18.249597Z",
     "shell.execute_reply": "2022-11-20T07:30:18.248590Z"
    },
    "papermill": {
     "duration": 0.838276,
     "end_time": "2022-11-20T07:30:18.252038",
     "exception": false,
     "start_time": "2022-11-20T07:30:17.413762",
     "status": "completed"
    },
    "tags": []
   },
   "outputs": [],
   "source": [
    "# create a weight matrix for words in training docs\n",
    "embedding_matrix = np.zeros((vocab_size, 100))\n",
    "for word, i in t.word_index.items(): ##Make a matric that can transform word to vecter\n",
    "    try:\n",
    "        embedding_vector = embeddings_index[word]\n",
    "        if embedding_vector is not None:\n",
    "            embedding_matrix[i] = embedding_vector\n",
    "    except:\n",
    "        pass"
   ]
  },
  {
   "cell_type": "code",
   "execution_count": 21,
   "id": "6d00082c",
   "metadata": {
    "execution": {
     "iopub.execute_input": "2022-11-20T07:30:18.269288Z",
     "iopub.status.busy": "2022-11-20T07:30:18.268996Z",
     "iopub.status.idle": "2022-11-20T07:30:18.291008Z",
     "shell.execute_reply": "2022-11-20T07:30:18.289963Z"
    },
    "papermill": {
     "duration": 0.03312,
     "end_time": "2022-11-20T07:30:18.293297",
     "exception": false,
     "start_time": "2022-11-20T07:30:18.260177",
     "status": "completed"
    },
    "tags": []
   },
   "outputs": [
    {
     "data": {
      "text/html": [
       "<div>\n",
       "<style scoped>\n",
       "    .dataframe tbody tr th:only-of-type {\n",
       "        vertical-align: middle;\n",
       "    }\n",
       "\n",
       "    .dataframe tbody tr th {\n",
       "        vertical-align: top;\n",
       "    }\n",
       "\n",
       "    .dataframe thead th {\n",
       "        text-align: right;\n",
       "    }\n",
       "</style>\n",
       "<table border=\"1\" class=\"dataframe\">\n",
       "  <thead>\n",
       "    <tr style=\"text-align: right;\">\n",
       "      <th></th>\n",
       "      <th>tweet_id</th>\n",
       "      <th>text</th>\n",
       "      <th>class</th>\n",
       "    </tr>\n",
       "  </thead>\n",
       "  <tbody>\n",
       "    <tr>\n",
       "      <th>0</th>\n",
       "      <td>0x376b20</td>\n",
       "      <td>[59, 61, 555, 1118, 17, 13, 1193, 301, 18, 205...</td>\n",
       "      <td>train</td>\n",
       "    </tr>\n",
       "    <tr>\n",
       "      <th>1</th>\n",
       "      <td>0x2d5350</td>\n",
       "      <td>[14258, 52, 30, 75, 202, 8, 2553, 3, 33027, 27...</td>\n",
       "      <td>train</td>\n",
       "    </tr>\n",
       "    <tr>\n",
       "      <th>2</th>\n",
       "      <td>0x28b412</td>\n",
       "      <td>[2982, 11, 16, 3679, 4, 942, 3, 7, 951, 15, 7,...</td>\n",
       "      <td>test</td>\n",
       "    </tr>\n",
       "    <tr>\n",
       "      <th>3</th>\n",
       "      <td>0x1cd5b0</td>\n",
       "      <td>[58, 608, 8, 6616, 2449, 933, 1, 0, 0, 0, 0, 0...</td>\n",
       "      <td>train</td>\n",
       "    </tr>\n",
       "    <tr>\n",
       "      <th>4</th>\n",
       "      <td>0x2de201</td>\n",
       "      <td>[364, 8, 27, 2, 217, 52, 224, 5, 309, 8, 145, ...</td>\n",
       "      <td>test</td>\n",
       "    </tr>\n",
       "    <tr>\n",
       "      <th>...</th>\n",
       "      <td>...</td>\n",
       "      <td>...</td>\n",
       "      <td>...</td>\n",
       "    </tr>\n",
       "    <tr>\n",
       "      <th>1867530</th>\n",
       "      <td>0x316b80</td>\n",
       "      <td>[31, 7, 229, 2, 120, 63, 757, 6064, 9, 5, 171,...</td>\n",
       "      <td>test</td>\n",
       "    </tr>\n",
       "    <tr>\n",
       "      <th>1867531</th>\n",
       "      <td>0x29d0cb</td>\n",
       "      <td>[4, 1204, 26, 20, 259, 89, 526, 511, 132, 48, ...</td>\n",
       "      <td>test</td>\n",
       "    </tr>\n",
       "    <tr>\n",
       "      <th>1867532</th>\n",
       "      <td>0x2a6a4f</td>\n",
       "      <td>[80807, 47, 1021, 326, 31, 4, 751, 10, 22, 4, ...</td>\n",
       "      <td>test</td>\n",
       "    </tr>\n",
       "    <tr>\n",
       "      <th>1867533</th>\n",
       "      <td>0x24faed</td>\n",
       "      <td>[2114, 4609, 32, 150, 7, 43, 837, 1, 752, 25, ...</td>\n",
       "      <td>train</td>\n",
       "    </tr>\n",
       "    <tr>\n",
       "      <th>1867534</th>\n",
       "      <td>0x34be8c</td>\n",
       "      <td>[179, 3, 18, 424, 15283, 1, 0, 0, 0, 0, 0, 0, ...</td>\n",
       "      <td>train</td>\n",
       "    </tr>\n",
       "  </tbody>\n",
       "</table>\n",
       "<p>1867535 rows × 3 columns</p>\n",
       "</div>"
      ],
      "text/plain": [
       "         tweet_id                                               text  class\n",
       "0        0x376b20  [59, 61, 555, 1118, 17, 13, 1193, 301, 18, 205...  train\n",
       "1        0x2d5350  [14258, 52, 30, 75, 202, 8, 2553, 3, 33027, 27...  train\n",
       "2        0x28b412  [2982, 11, 16, 3679, 4, 942, 3, 7, 951, 15, 7,...   test\n",
       "3        0x1cd5b0  [58, 608, 8, 6616, 2449, 933, 1, 0, 0, 0, 0, 0...  train\n",
       "4        0x2de201  [364, 8, 27, 2, 217, 52, 224, 5, 309, 8, 145, ...   test\n",
       "...           ...                                                ...    ...\n",
       "1867530  0x316b80  [31, 7, 229, 2, 120, 63, 757, 6064, 9, 5, 171,...   test\n",
       "1867531  0x29d0cb  [4, 1204, 26, 20, 259, 89, 526, 511, 132, 48, ...   test\n",
       "1867532  0x2a6a4f  [80807, 47, 1021, 326, 31, 4, 751, 10, 22, 4, ...   test\n",
       "1867533  0x24faed  [2114, 4609, 32, 150, 7, 43, 837, 1, 752, 25, ...  train\n",
       "1867534  0x34be8c  [179, 3, 18, 424, 15283, 1, 0, 0, 0, 0, 0, 0, ...  train\n",
       "\n",
       "[1867535 rows x 3 columns]"
      ]
     },
     "execution_count": 21,
     "metadata": {},
     "output_type": "execute_result"
    }
   ],
   "source": [
    "data"
   ]
  },
  {
   "cell_type": "code",
   "execution_count": 22,
   "id": "04b6a80d",
   "metadata": {
    "execution": {
     "iopub.execute_input": "2022-11-20T07:30:18.310152Z",
     "iopub.status.busy": "2022-11-20T07:30:18.309892Z",
     "iopub.status.idle": "2022-11-20T07:30:20.159555Z",
     "shell.execute_reply": "2022-11-20T07:30:20.158561Z"
    },
    "papermill": {
     "duration": 1.860558,
     "end_time": "2022-11-20T07:30:20.161829",
     "exception": false,
     "start_time": "2022-11-20T07:30:18.301271",
     "status": "completed"
    },
    "tags": []
   },
   "outputs": [
    {
     "data": {
      "text/plain": [
       "126"
      ]
     },
     "execution_count": 22,
     "metadata": {},
     "output_type": "execute_result"
    }
   ],
   "source": [
    "X_train=data[data['class']==\"train\"]\n",
    "Final_Predict=data[data['class']==\"test\"]\n",
    "del data\n",
    "gc.collect() ## for reducing RAM"
   ]
  },
  {
   "cell_type": "code",
   "execution_count": 23,
   "id": "f0a0a3b2",
   "metadata": {
    "execution": {
     "iopub.execute_input": "2022-11-20T07:30:20.179908Z",
     "iopub.status.busy": "2022-11-20T07:30:20.179598Z",
     "iopub.status.idle": "2022-11-20T07:30:22.588773Z",
     "shell.execute_reply": "2022-11-20T07:30:22.587791Z"
    },
    "papermill": {
     "duration": 2.42086,
     "end_time": "2022-11-20T07:30:22.591211",
     "exception": false,
     "start_time": "2022-11-20T07:30:20.170351",
     "status": "completed"
    },
    "tags": []
   },
   "outputs": [],
   "source": [
    "X_train=pd.merge(X_train,emotion)"
   ]
  },
  {
   "cell_type": "code",
   "execution_count": 24,
   "id": "d680c3dc",
   "metadata": {
    "execution": {
     "iopub.execute_input": "2022-11-20T07:30:22.611092Z",
     "iopub.status.busy": "2022-11-20T07:30:22.610211Z",
     "iopub.status.idle": "2022-11-20T07:30:22.632768Z",
     "shell.execute_reply": "2022-11-20T07:30:22.631769Z"
    },
    "papermill": {
     "duration": 0.034704,
     "end_time": "2022-11-20T07:30:22.635319",
     "exception": false,
     "start_time": "2022-11-20T07:30:22.600615",
     "status": "completed"
    },
    "tags": []
   },
   "outputs": [
    {
     "data": {
      "text/html": [
       "<div>\n",
       "<style scoped>\n",
       "    .dataframe tbody tr th:only-of-type {\n",
       "        vertical-align: middle;\n",
       "    }\n",
       "\n",
       "    .dataframe tbody tr th {\n",
       "        vertical-align: top;\n",
       "    }\n",
       "\n",
       "    .dataframe thead th {\n",
       "        text-align: right;\n",
       "    }\n",
       "</style>\n",
       "<table border=\"1\" class=\"dataframe\">\n",
       "  <thead>\n",
       "    <tr style=\"text-align: right;\">\n",
       "      <th></th>\n",
       "      <th>tweet_id</th>\n",
       "      <th>text</th>\n",
       "      <th>class</th>\n",
       "      <th>emotion</th>\n",
       "    </tr>\n",
       "  </thead>\n",
       "  <tbody>\n",
       "    <tr>\n",
       "      <th>0</th>\n",
       "      <td>0x376b20</td>\n",
       "      <td>[59, 61, 555, 1118, 17, 13, 1193, 301, 18, 205...</td>\n",
       "      <td>train</td>\n",
       "      <td>anticipation</td>\n",
       "    </tr>\n",
       "    <tr>\n",
       "      <th>1</th>\n",
       "      <td>0x2d5350</td>\n",
       "      <td>[14258, 52, 30, 75, 202, 8, 2553, 3, 33027, 27...</td>\n",
       "      <td>train</td>\n",
       "      <td>sadness</td>\n",
       "    </tr>\n",
       "    <tr>\n",
       "      <th>2</th>\n",
       "      <td>0x1cd5b0</td>\n",
       "      <td>[58, 608, 8, 6616, 2449, 933, 1, 0, 0, 0, 0, 0...</td>\n",
       "      <td>train</td>\n",
       "      <td>fear</td>\n",
       "    </tr>\n",
       "    <tr>\n",
       "      <th>3</th>\n",
       "      <td>0x1d755c</td>\n",
       "      <td>[111557, 181667, 1871, 9, 2, 107, 60, 164, 33,...</td>\n",
       "      <td>train</td>\n",
       "      <td>joy</td>\n",
       "    </tr>\n",
       "    <tr>\n",
       "      <th>4</th>\n",
       "      <td>0x2c91a8</td>\n",
       "      <td>[91, 331, 13, 182, 5956, 297151, 1, 0, 0, 0, 0...</td>\n",
       "      <td>train</td>\n",
       "      <td>anticipation</td>\n",
       "    </tr>\n",
       "    <tr>\n",
       "      <th>...</th>\n",
       "      <td>...</td>\n",
       "      <td>...</td>\n",
       "      <td>...</td>\n",
       "      <td>...</td>\n",
       "    </tr>\n",
       "    <tr>\n",
       "      <th>1455558</th>\n",
       "      <td>0x321566</td>\n",
       "      <td>[38, 22, 95, 96926, 2, 300, 11, 20, 171, 95, 1...</td>\n",
       "      <td>train</td>\n",
       "      <td>joy</td>\n",
       "    </tr>\n",
       "    <tr>\n",
       "      <th>1455559</th>\n",
       "      <td>0x38959e</td>\n",
       "      <td>[10, 140, 1070812, 442, 37, 3, 18, 258, 3, 2, ...</td>\n",
       "      <td>train</td>\n",
       "      <td>joy</td>\n",
       "    </tr>\n",
       "    <tr>\n",
       "      <th>1455560</th>\n",
       "      <td>0x2cbca6</td>\n",
       "      <td>[400, 1148, 221, 429, 981, 271, 2, 3006, 25, 9...</td>\n",
       "      <td>train</td>\n",
       "      <td>joy</td>\n",
       "    </tr>\n",
       "    <tr>\n",
       "      <th>1455561</th>\n",
       "      <td>0x24faed</td>\n",
       "      <td>[2114, 4609, 32, 150, 7, 43, 837, 1, 752, 25, ...</td>\n",
       "      <td>train</td>\n",
       "      <td>joy</td>\n",
       "    </tr>\n",
       "    <tr>\n",
       "      <th>1455562</th>\n",
       "      <td>0x34be8c</td>\n",
       "      <td>[179, 3, 18, 424, 15283, 1, 0, 0, 0, 0, 0, 0, ...</td>\n",
       "      <td>train</td>\n",
       "      <td>joy</td>\n",
       "    </tr>\n",
       "  </tbody>\n",
       "</table>\n",
       "<p>1455563 rows × 4 columns</p>\n",
       "</div>"
      ],
      "text/plain": [
       "         tweet_id                                               text  class  \\\n",
       "0        0x376b20  [59, 61, 555, 1118, 17, 13, 1193, 301, 18, 205...  train   \n",
       "1        0x2d5350  [14258, 52, 30, 75, 202, 8, 2553, 3, 33027, 27...  train   \n",
       "2        0x1cd5b0  [58, 608, 8, 6616, 2449, 933, 1, 0, 0, 0, 0, 0...  train   \n",
       "3        0x1d755c  [111557, 181667, 1871, 9, 2, 107, 60, 164, 33,...  train   \n",
       "4        0x2c91a8  [91, 331, 13, 182, 5956, 297151, 1, 0, 0, 0, 0...  train   \n",
       "...           ...                                                ...    ...   \n",
       "1455558  0x321566  [38, 22, 95, 96926, 2, 300, 11, 20, 171, 95, 1...  train   \n",
       "1455559  0x38959e  [10, 140, 1070812, 442, 37, 3, 18, 258, 3, 2, ...  train   \n",
       "1455560  0x2cbca6  [400, 1148, 221, 429, 981, 271, 2, 3006, 25, 9...  train   \n",
       "1455561  0x24faed  [2114, 4609, 32, 150, 7, 43, 837, 1, 752, 25, ...  train   \n",
       "1455562  0x34be8c  [179, 3, 18, 424, 15283, 1, 0, 0, 0, 0, 0, 0, ...  train   \n",
       "\n",
       "              emotion  \n",
       "0        anticipation  \n",
       "1             sadness  \n",
       "2                fear  \n",
       "3                 joy  \n",
       "4        anticipation  \n",
       "...               ...  \n",
       "1455558           joy  \n",
       "1455559           joy  \n",
       "1455560           joy  \n",
       "1455561           joy  \n",
       "1455562           joy  \n",
       "\n",
       "[1455563 rows x 4 columns]"
      ]
     },
     "execution_count": 24,
     "metadata": {},
     "output_type": "execute_result"
    }
   ],
   "source": [
    "X_train"
   ]
  },
  {
   "cell_type": "code",
   "execution_count": 25,
   "id": "8d5f7687",
   "metadata": {
    "execution": {
     "iopub.execute_input": "2022-11-20T07:30:22.652738Z",
     "iopub.status.busy": "2022-11-20T07:30:22.652451Z",
     "iopub.status.idle": "2022-11-20T07:30:22.657045Z",
     "shell.execute_reply": "2022-11-20T07:30:22.655960Z"
    },
    "papermill": {
     "duration": 0.015767,
     "end_time": "2022-11-20T07:30:22.659284",
     "exception": false,
     "start_time": "2022-11-20T07:30:22.643517",
     "status": "completed"
    },
    "tags": []
   },
   "outputs": [],
   "source": [
    "X=X_train[\"text\"]\n",
    "Y=X_train[\"emotion\"]"
   ]
  },
  {
   "cell_type": "code",
   "execution_count": 26,
   "id": "fa4db7a2",
   "metadata": {
    "execution": {
     "iopub.execute_input": "2022-11-20T07:30:22.676631Z",
     "iopub.status.busy": "2022-11-20T07:30:22.676350Z",
     "iopub.status.idle": "2022-11-20T07:30:22.680348Z",
     "shell.execute_reply": "2022-11-20T07:30:22.679352Z"
    },
    "papermill": {
     "duration": 0.015173,
     "end_time": "2022-11-20T07:30:22.682615",
     "exception": false,
     "start_time": "2022-11-20T07:30:22.667442",
     "status": "completed"
    },
    "tags": []
   },
   "outputs": [],
   "source": [
    "#x_train,x_test,y_train,y_test=model_selection.train_test_split(X,Y,test_size=0.3)"
   ]
  },
  {
   "cell_type": "code",
   "execution_count": 27,
   "id": "7a94f708",
   "metadata": {
    "execution": {
     "iopub.execute_input": "2022-11-20T07:30:22.700103Z",
     "iopub.status.busy": "2022-11-20T07:30:22.699848Z",
     "iopub.status.idle": "2022-11-20T07:30:23.569959Z",
     "shell.execute_reply": "2022-11-20T07:30:23.568958Z"
    },
    "papermill": {
     "duration": 0.881526,
     "end_time": "2022-11-20T07:30:23.572293",
     "exception": false,
     "start_time": "2022-11-20T07:30:22.690767",
     "status": "completed"
    },
    "tags": []
   },
   "outputs": [],
   "source": [
    "label_encoder = LabelEncoder()\n",
    "label_encoder.fit(Y)\n",
    "\n",
    "def label_encode(le, labels):\n",
    "    enc = le.transform(labels)\n",
    "    return keras.utils.np_utils.to_categorical(enc)\n",
    "\n",
    "def label_decode(le, one_hot_label):\n",
    "    dec = np.argmax(one_hot_label, axis=1)\n",
    "    return le.inverse_transform(dec)\n",
    "Y=label_encode(label_encoder, Y)\n",
    "#y_train = label_encode(label_encoder, y_train)\n",
    "#y_test = label_encode(label_encoder, y_test)\n"
   ]
  },
  {
   "cell_type": "code",
   "execution_count": 28,
   "id": "00415c95",
   "metadata": {
    "execution": {
     "iopub.execute_input": "2022-11-20T07:30:23.591028Z",
     "iopub.status.busy": "2022-11-20T07:30:23.590705Z",
     "iopub.status.idle": "2022-11-20T07:30:23.595155Z",
     "shell.execute_reply": "2022-11-20T07:30:23.594121Z"
    },
    "papermill": {
     "duration": 0.016,
     "end_time": "2022-11-20T07:30:23.597341",
     "exception": false,
     "start_time": "2022-11-20T07:30:23.581341",
     "status": "completed"
    },
    "tags": []
   },
   "outputs": [],
   "source": [
    "#x_train"
   ]
  },
  {
   "cell_type": "code",
   "execution_count": 29,
   "id": "b89999db",
   "metadata": {
    "execution": {
     "iopub.execute_input": "2022-11-20T07:30:23.614993Z",
     "iopub.status.busy": "2022-11-20T07:30:23.614723Z",
     "iopub.status.idle": "2022-11-20T07:30:25.998832Z",
     "shell.execute_reply": "2022-11-20T07:30:25.997607Z"
    },
    "papermill": {
     "duration": 2.395528,
     "end_time": "2022-11-20T07:30:26.001257",
     "exception": false,
     "start_time": "2022-11-20T07:30:23.605729",
     "status": "completed"
    },
    "tags": []
   },
   "outputs": [],
   "source": [
    "X=np.asarray(list(X.to_numpy())).astype('int32')\n",
    "#x_train=np.asarray(list(x_train.to_numpy())).astype('int32')\n",
    "#x_test=np.asarray(list(x_test.to_numpy())).astype('int32')"
   ]
  },
  {
   "cell_type": "code",
   "execution_count": 30,
   "id": "3a0bef29",
   "metadata": {
    "execution": {
     "iopub.execute_input": "2022-11-20T07:30:26.021356Z",
     "iopub.status.busy": "2022-11-20T07:30:26.019644Z",
     "iopub.status.idle": "2022-11-20T07:30:26.030501Z",
     "shell.execute_reply": "2022-11-20T07:30:26.029256Z"
    },
    "papermill": {
     "duration": 0.021928,
     "end_time": "2022-11-20T07:30:26.031877",
     "exception": true,
     "start_time": "2022-11-20T07:30:26.009949",
     "status": "failed"
    },
    "tags": []
   },
   "outputs": [
    {
     "ename": "SyntaxError",
     "evalue": "unexpected character after line continuation character (2729488375.py, line 3)",
     "output_type": "error",
     "traceback": [
      "\u001b[0;36m  File \u001b[0;32m\"/tmp/ipykernel_23/2729488375.py\"\u001b[0;36m, line \u001b[0;32m3\u001b[0m\n\u001b[0;31m    e = Embedding(vocab_size, 100,\\ weights=[embedding_matrix], input_length=max_len, trainable=False) ## transform word to vector by embedding layer adn use matric we just made\u001b[0m\n\u001b[0m                                                                                                                                                                                 ^\u001b[0m\n\u001b[0;31mSyntaxError\u001b[0m\u001b[0;31m:\u001b[0m unexpected character after line continuation character\n"
     ]
    }
   ],
   "source": [
    "# define model\n",
    "model = Sequential() \n",
    "e = Embedding(vocab_size, 100,\\ weights=[embedding_matrix], input_length=max_len, trainable=False) ## transform word to vector by embedding layer adn use matric we just made\n",
    "model.add(e)\n",
    "model.add(Dense(128,activation='relu'))\n",
    "model.add(Dropout(0.1))\n",
    "model.add(Dense(128,activation='relu'))\n",
    "model.add(Dropout(0.15))\n",
    "model.add(Dense(128,activation='relu'))\n",
    "model.add(Flatten())\n",
    "model.add(Dense(128,activation='relu'))\n",
    "model.add(Dropout(0.1))\n",
    "model.add(Dense(128,activation='relu'))\n",
    "model.add(Dropout(0.15))\n",
    "model.add(Dense(128,activation='relu'))\n",
    "model.add(Dense(8, activation='softmax'))\n",
    "# compile the model\n",
    "model.compile(optimizer='adam', loss='categorical_crossentropy', metrics=['accuracy'])\n",
    "# checkpoint\n",
    "filepath=\"./model.hdf5\"\n",
    "checkpoint = ModelCheckpoint(filepath, monitor='val_accuracy', save_best_only=True,mode='max')\n",
    "callbacks_list = [checkpoint]\n",
    "# summarize the model\n",
    "print(model.summary())\n",
    "# fit the model\n",
    "model.fit(X, Y,batch_size=64 ,epochs=25,callbacks=callbacks_list, validation_split=0.3)"
   ]
  },
  {
   "cell_type": "code",
   "execution_count": null,
   "id": "fa0662da",
   "metadata": {
    "execution": {
     "iopub.execute_input": "2022-11-12T18:13:18.175939Z",
     "iopub.status.busy": "2022-11-12T18:13:18.175579Z",
     "iopub.status.idle": "2022-11-12T18:13:18.182340Z",
     "shell.execute_reply": "2022-11-12T18:13:18.181146Z",
     "shell.execute_reply.started": "2022-11-12T18:13:18.175903Z"
    },
    "papermill": {
     "duration": null,
     "end_time": null,
     "exception": null,
     "start_time": null,
     "status": "pending"
    },
    "tags": []
   },
   "outputs": [],
   "source": [
    "# evaluate the model\n",
    "#loss, accuracy = model.evaluate(padded_docs, labels, verbose=0)\n",
    "#print('Accuracy: %f' % (accuracy*100))"
   ]
  },
  {
   "cell_type": "code",
   "execution_count": null,
   "id": "6a58f373",
   "metadata": {
    "execution": {
     "iopub.execute_input": "2022-11-12T18:13:18.184633Z",
     "iopub.status.busy": "2022-11-12T18:13:18.183790Z",
     "iopub.status.idle": "2022-11-12T18:13:18.191186Z",
     "shell.execute_reply": "2022-11-12T18:13:18.190327Z",
     "shell.execute_reply.started": "2022-11-12T18:13:18.184593Z"
    },
    "papermill": {
     "duration": null,
     "end_time": null,
     "exception": null,
     "start_time": null,
     "status": "pending"
    },
    "tags": []
   },
   "outputs": [],
   "source": [
    "#model.save(\"./version2.h5\")"
   ]
  },
  {
   "cell_type": "code",
   "execution_count": null,
   "id": "e5f0fdfa",
   "metadata": {
    "execution": {
     "iopub.execute_input": "2022-11-12T18:28:21.181940Z",
     "iopub.status.busy": "2022-11-12T18:28:21.180924Z",
     "iopub.status.idle": "2022-11-12T18:28:21.186492Z",
     "shell.execute_reply": "2022-11-12T18:28:21.185358Z",
     "shell.execute_reply.started": "2022-11-12T18:28:21.181900Z"
    },
    "papermill": {
     "duration": null,
     "end_time": null,
     "exception": null,
     "start_time": null,
     "status": "pending"
    },
    "tags": []
   },
   "outputs": [],
   "source": [
    "import csv"
   ]
  },
  {
   "cell_type": "code",
   "execution_count": null,
   "id": "cb3d8c17",
   "metadata": {
    "execution": {
     "iopub.execute_input": "2022-11-12T18:45:07.611684Z",
     "iopub.status.busy": "2022-11-12T18:45:07.610986Z",
     "iopub.status.idle": "2022-11-12T18:45:07.934756Z",
     "shell.execute_reply": "2022-11-12T18:45:07.933821Z",
     "shell.execute_reply.started": "2022-11-12T18:45:07.611648Z"
    },
    "papermill": {
     "duration": null,
     "end_time": null,
     "exception": null,
     "start_time": null,
     "status": "pending"
    },
    "tags": []
   },
   "outputs": [],
   "source": [
    "with open('output.csv', 'w') as csvfile:\n",
    "    writer = csv.writer(csvfile)\n",
    "    for i in label_decode(label_encoder,model.predict(np.asarray(list(Final_Predict[\"text\"].to_numpy())).astype('int32'))):\n",
    "        writer.writerow([i])"
   ]
  },
  {
   "cell_type": "code",
   "execution_count": null,
   "id": "ad4b3eba",
   "metadata": {
    "execution": {
     "iopub.execute_input": "2022-11-12T18:24:31.529267Z",
     "iopub.status.busy": "2022-11-12T18:24:31.528859Z",
     "iopub.status.idle": "2022-11-12T18:25:13.395625Z",
     "shell.execute_reply": "2022-11-12T18:25:13.394516Z",
     "shell.execute_reply.started": "2022-11-12T18:24:31.529230Z"
    },
    "papermill": {
     "duration": null,
     "end_time": null,
     "exception": null,
     "start_time": null,
     "status": "pending"
    },
    "tags": []
   },
   "outputs": [],
   "source": [
    "label_decode(label_encoder,model.predict(np.asarray(list(Final_Predict[\"text\"].to_numpy())).astype('int32')))"
   ]
  },
  {
   "cell_type": "code",
   "execution_count": null,
   "id": "8df96e85",
   "metadata": {
    "execution": {
     "iopub.execute_input": "2022-11-12T18:36:11.563600Z",
     "iopub.status.busy": "2022-11-12T18:36:11.562970Z",
     "iopub.status.idle": "2022-11-12T18:36:11.570228Z",
     "shell.execute_reply": "2022-11-12T18:36:11.569237Z",
     "shell.execute_reply.started": "2022-11-12T18:36:11.563564Z"
    },
    "papermill": {
     "duration": null,
     "end_time": null,
     "exception": null,
     "start_time": null,
     "status": "pending"
    },
    "tags": []
   },
   "outputs": [],
   "source": [
    "len(Final_Predict[\"text\"])"
   ]
  }
 ],
 "metadata": {
  "kernelspec": {
   "display_name": "Python 3",
   "language": "python",
   "name": "python3"
  },
  "language_info": {
   "codemirror_mode": {
    "name": "ipython",
    "version": 3
   },
   "file_extension": ".py",
   "mimetype": "text/x-python",
   "name": "python",
   "nbconvert_exporter": "python",
   "pygments_lexer": "ipython3",
   "version": "3.7.12"
  },
  "papermill": {
   "default_parameters": {},
   "duration": 167.47876,
   "end_time": "2022-11-20T07:30:28.658969",
   "environment_variables": {},
   "exception": true,
   "input_path": "__notebook__.ipynb",
   "output_path": "__notebook__.ipynb",
   "parameters": {},
   "start_time": "2022-11-20T07:27:41.180209",
   "version": "2.3.4"
  }
 },
 "nbformat": 4,
 "nbformat_minor": 5
}
